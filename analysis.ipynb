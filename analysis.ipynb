{
 "cells": [
  {
   "cell_type": "markdown",
   "metadata": {},
   "source": [
    "# STEP ONE \n",
    "\n",
    "### Sketch out an ERD of the tables. \n",
    "### Use the information you have to create a table schema for each of the six CSV files. \n",
    "### Import each CSV into the corresponding SQL table. NOTE: Be sure to import the data in the same order that the tables were created and account for the headers when importing! "
   ]
  },
  {
   "cell_type": "code",
   "execution_count": null,
   "metadata": {},
   "outputs": [],
   "source": []
  },
  {
   "cell_type": "code",
   "execution_count": null,
   "metadata": {},
   "outputs": [],
   "source": []
  },
  {
   "cell_type": "code",
   "execution_count": null,
   "metadata": {},
   "outputs": [],
   "source": []
  },
  {
   "cell_type": "markdown",
   "metadata": {},
   "source": [
    "## STEP TWO\n",
    "\n",
    "### List the following details of each employee: employee number, last name, first name, sex, and salary.\n",
    "\n",
    "# 1. List first name, last name, and hire date for employees who were hired in 1986.\n",
    "# 2. List the manager of each department with the following information: department number, department name, the manager's employee number, last name, first name.\n",
    "# 3. List the department of each employee with the following information: employee number, last name, first name, and department name.\n",
    "# 4. List first name, last name, and sex for employees whose first name is \"Hercules\" and last names begin with \"B.\"\n",
    "# 5. List all employees in the Sales department, including their employee number, last name, first name, and department name.\n",
    "# 6. List all employees in the Sales and Development departments, including their employee number, last name, first name, and department name."
   ]
  }
 ],
 "metadata": {
  "kernelspec": {
   "display_name": "Python 3",
   "language": "python",
   "name": "python3"
  },
  "language_info": {
   "codemirror_mode": {
    "name": "ipython",
    "version": 3
   },
   "file_extension": ".py",
   "mimetype": "text/x-python",
   "name": "python",
   "nbconvert_exporter": "python",
   "pygments_lexer": "ipython3",
   "version": "3.7.3"
  }
 },
 "nbformat": 4,
 "nbformat_minor": 4
}
